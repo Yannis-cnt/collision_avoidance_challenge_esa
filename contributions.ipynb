{
 "cells": [
  {
   "cell_type": "markdown",
   "metadata": {},
   "source": [
    "# ESA - Collision Avoidance Challenge"
   ]
  },
  {
   "cell_type": "markdown",
   "metadata": {},
   "source": [
    "## Introduction"
   ]
  },
  {
   "cell_type": "markdown",
   "metadata": {},
   "source": [
    "As space debris becomes an increasingly pressing issue, the European Space Agency (ESA) initiated the \"Collision Avoidance Challenge\" in 2019 to tackle potential collisions in orbit through data analysis and artificial intelligence. For an in-depth look at the competition and its aims, please refer to the official competition website listed below, and check out the ESA's post-competition publication \"Spacecraft Collision Avoidance Challenge: Design and Results of a Machine Learning Competition\" available in this project's repository (article.pdf) :\n",
    "- https://kelvins.esa.int/collision-avoidance-challenge/home/\n",
    "\n",
    "The initial phase, documented in the \"reproduce_solutions.ipynb\" notebook, focused on reimplementing solutions from the ESA's publication. Expanding on this, the current notebook presents an alternative approach. Although the article notes that the use of machine learning methods might not be optimal, particularly due to the poor correlation between training and test datasets, we aim to further explore the potential of these techniques to see if we can surpass the reported error rates of 0.83 to 1.0 mentioned in the article. In this context, we are utilizing the LGBM algorithm, inspired by the article, but with adaptations to the methodology aimed at enhancing performance."
   ]
  },
  {
   "cell_type": "markdown",
   "metadata": {},
   "source": [
    "## Setup"
   ]
  },
  {
   "cell_type": "markdown",
   "metadata": {},
   "source": [
    "We start by importing the necessary libraries for this project. All the dependencies required are listed in the ***requirements.txt*** file."
   ]
  },
  {
   "cell_type": "code",
   "execution_count": 26,
   "metadata": {},
   "outputs": [],
   "source": [
    "import pandas as pd\n",
    "import warnings\n",
    "import matplotlib.pyplot as plt\n",
    "\n",
    "from sklearn.metrics import fbeta_score, mean_squared_error, make_scorer, roc_auc_score\n",
    "from sklearn.preprocessing import QuantileTransformer\n",
    "from imblearn.over_sampling import SMOTE\n",
    "\n",
    "import numpy as np\n",
    "from lightgbm import LGBMRegressor\n",
    "\n",
    "plt.style.use('seaborn-v0_8')\n",
    "pd.set_option('display.max_rows', 500)\n",
    "pd.set_option('display.max_columns', 200)\n",
    "pd.options.mode.copy_on_write = True\n",
    "warnings.simplefilter(action='ignore')"
   ]
  },
  {
   "cell_type": "markdown",
   "metadata": {},
   "source": [
    "We then load the competition data into our environment, which can be retrieved directly from this repository in the ***data*** folder or from the following link:\n",
    "\n",
    "- https://zenodo.org/records/4463683\n",
    "\n",
    "Here, we aim to replicate the conditions of the competitors. Therefore, we use only the data contained in the ***kelvins_competition_data*** folder."
   ]
  },
  {
   "cell_type": "code",
   "execution_count": 33,
   "metadata": {},
   "outputs": [],
   "source": [
    "df_train_init = pd.read_csv(\".\\\\data\\\\train_data.csv\").sort_values(by=['event_id', 'time_to_tca'], ascending=[True, False])\n",
    "X_test_init = pd.read_csv(\".\\\\data\\\\test_data.csv\").sort_values(by=['event_id', 'time_to_tca'], ascending=[True, False])\n",
    "y_test_init = pd.read_csv(\".\\\\data\\\\test_data_private.csv\").sort_values(by=['event_id'])"
   ]
  },
  {
   "cell_type": "markdown",
   "metadata": {},
   "source": [
    "## Metrics"
   ]
  },
  {
   "cell_type": "markdown",
   "metadata": {},
   "source": [
    "Now, we define the metrics used in the competition, which will be the basis for replicating the results. Here are the formulas for these metrics:\n",
    "\n",
    "The loss used in the competition is defined from two error metrics as follows, where $r$ corresponds to the final risk and $\\hat{r}$ to the associated prediction:\n",
    "\n",
    "$$\\boxed{L(\\hat{r}) = \\frac{1}{F_2} MSE_{hr}(r, \\hat{r})}$$\n",
    "\n",
    "We then have:\n",
    "\n",
    "$$MSE_{HR}(r, \\hat{r}) = \\frac{1}{N^*} \\sum_{i=1}^N I_i(r_i - \\hat{r}_i)^2$$\n",
    "\n",
    "- $I_i = \\begin{cases} \n",
    "1 & \\text{if } r_i \\geq -6, \\\\\n",
    "0 & \\text{else}.\n",
    "\\end{cases}$ , indicating whether the data belongs to the high-risk group $(1)$ or a low-risk group $(0)$\n",
    "- $N^* = \\sum_{i=1}^N I_i$ , representing the number of high-risk data points\n",
    "\n",
    "\n",
    "And:\n",
    "\n",
    "$$F_{\\beta} = (1 + \\beta^2) \\frac{p \\times q}{(\\beta^2 \\times p) + q}$$\n",
    "\n",
    "- $p$ and $q$ corresponding respectively to precision and recall in binary classification, with our classes defined by $I$.\n",
    "\n",
    "In summary, $MSE_{HR}$ represents an average distance calculated between predicted and real data, but only for the real high-risk data $(r \\geq -6)$. $F_{\\beta}$, on the other hand, represents a performance score in the classification of low and high-risk data, where the balance between precision and recall is adjusted according to the $\\beta$ parameter: the larger $\\beta$ is, the greater the weight of recall, and vice versa.\n",
    "\n",
    "From these metrics, two essential points are to be noted:\n",
    "- Since $MSE_{HR}$ is calculated only on the actual high-risk data, it will be in our interest to clip the value of data predicted as low risk by our models. This will have the effect of minimizing the $MSE_{HR}$, without impacting our $F_2$ score.\n",
    "- We consider here the $F_2$ score, which therefore places more weight on false negatives than on false positives. It might then be interesting to bias the model to predict high-risk data more often, even when this is not the case, to limit false positives as much as possible.\n"
   ]
  },
  {
   "cell_type": "code",
   "execution_count": 34,
   "metadata": {},
   "outputs": [],
   "source": [
    "def mse_hr(y_true, y_pred, clipped_value=-6.001):\n",
    "    \"\"\"\n",
    "    Compute MSE_hr loss defined previously\n",
    "    Integrate the clipping of low risk prediction.\n",
    "\n",
    "    Parameters:\n",
    "    - y_true (numpy array): ground truth (correct) target values.\n",
    "    - y_pred (numpy array): estimated target values\n",
    "    - clipped_value (float): value to clip predictions which are not predicted as high risk\n",
    "\n",
    "    Returns:\n",
    "    - error (float): the best value is 0.0\n",
    "    \"\"\"\n",
    "    risk_category_true = np.where(y_true >= -6.00, 1, 0)\n",
    "    y_true = y_true[risk_category_true == 1]\n",
    "    y_pred = y_pred[risk_category_true == 1]\n",
    "\n",
    "    y_pred_clipped = np.where(y_pred >= -6, y_pred, clipped_value)\n",
    "\n",
    "    return mean_squared_error(y_true, y_pred_clipped)\n",
    "\n",
    "\n",
    "def f2(y_true, y_pred):\n",
    "    \"\"\"\n",
    "    Compute F2 score defined previously\n",
    "    Integrate the class decision from y_true and y_pred.\n",
    "\n",
    "    Parameters:\n",
    "    - y_true (numpy array): ground truth (correct) target values.\n",
    "    - y_pred (numpy array): estimated target values\n",
    "\n",
    "    Returns:\n",
    "    - score (float): the best value is 1.0\n",
    "    \"\"\"\n",
    "    risk_category_true = np.where(y_true >= -6.00, 1, 0)\n",
    "    risk_category_pred = np.where(y_pred >= -6.00, 1, 0)\n",
    "\n",
    "    return fbeta_score(risk_category_true, risk_category_pred, beta=2)\n",
    "\n",
    "\n",
    "def loss(y_true, y_pred):\n",
    "    \"\"\"\n",
    "    Compute Loss defined previously\n",
    "\n",
    "    Parameters:\n",
    "    - y_true (numpy array): ground truth (correct) target values.\n",
    "    - y_pred (numpy array): estimated target values\n",
    "\n",
    "    Returns:\n",
    "    - loss (float): the best value is 0.0\n",
    "    \"\"\"\n",
    "\n",
    "    return 1/f2(y_true, y_pred) * mse_hr(y_true, y_pred)"
   ]
  },
  {
   "cell_type": "markdown",
   "metadata": {},
   "source": [
    "## Method 1 - LGBM Pipeline"
   ]
  },
  {
   "cell_type": "markdown",
   "metadata": {},
   "source": [
    "This first method aims to utilize the LGBM model, as previously applied in the article, and try to provide an implementation that surpasses the results achieved through traditional machine learning methods. To accomplish this, data manipulation is necessary because, as specified in the article, the correlation between train and test datasets is relatively low, and working directly with the intact datasets doesn't seem efficient.\n",
    "\n",
    "In our approach, to improve the representativeness of the training, we will integrate the following steps presented in the following figure :\n",
    "\n",
    "<img src=\"./images/lgbm_data_processing.png\" alt=\"drawing\" width=\"900\"/>\n",
    "\n",
    "- **Data Structure** : First, the data structure will remain the same as the one describe in the article : we will use the most recent CDMs with a $time\\_to\\_tca < 1$ as the target and the most recent CDM with $time\\_to\\_tca >= 2$ as the data point for a given event.\n",
    "\n",
    "- **Feature Selection** : Here, instead of keeping almost all features as in the article, we will only keep the risk. This selection mirrors the LRP approach but allows a more flexible and complex utilization of the risk data point since we can find non-linearities. This targeted approach also helps in preventing overfitting, as it minimizes the risk of the model learning irrelevant variance from other features that would not be seen in the test set. In fact, we sacrifice a large part of the data to have a more generalizable dataset.\n",
    "\n",
    "- **Data Processing and Augmentation** : The main change from the method in the article is that we will exclude all data presenting a risk of -30, as it is prone to overfitting and the distribution being clipped could induce bias. Furthermore, as our evaluations focus on high-risk data, we are not particularly interested in having a precise model for these data points. After excluding these data, we increase the number of high risk data ($risk >= -6.0) by using SMOTE algorithm. Thus, we extract synthetic data created from real samples to achieve a balance between events high risk and low risk events. In this way, we maximize the model's training on data more relevant to the test set (and therefore to useful real-world scenarios).\n",
    "\n",
    "- **Prediction Mechanism** : Similar to the methodology used in the article, we aim to predict the difference in risk between the last available CDM and the risk to be predicted. This difference is then normalized by a QuantileTransformer in the same manner. This simplifies the training and helps extract a more homogeneous distribution of the data to be predicted."
   ]
  },
  {
   "cell_type": "markdown",
   "metadata": {},
   "source": [
    "In the cell below, we prepare the datasets in the specified format."
   ]
  },
  {
   "cell_type": "code",
   "execution_count": 38,
   "metadata": {},
   "outputs": [],
   "source": [
    "def extract_train_dataset(df):\n",
    "    \"\"\"\n",
    "    Prepare the training dataset for the training of the LGMB model\n",
    "\n",
    "    Parameters:\n",
    "    - df (pandas DataFrame): Official training dataset unchanged downloaded from the competition site\n",
    "\n",
    "    Returns:\n",
    "    - X_train (pandas DataFrame): Training data\n",
    "    - y_train (pandas DataFrame): Labels associated to the training data. Contains :\n",
    "        - the target value (true_risk) which is the risk for the last tca available\n",
    "        - the difference between the risk and the target value (diff_risk)\n",
    "        - the class of the target value (class_risk)\n",
    "    \"\"\"\n",
    "\n",
    "    keep_events = []\n",
    "\n",
    "    # Keeping only the CDM that have a higher risk than -30\n",
    "    df = df[df['risk'] > -30.0]\n",
    "\n",
    "    # Select eligible events \n",
    "    for event in df['event_id'].unique():\n",
    "        if (df[df['event_id'] == event]['time_to_tca'].min() < 1.0) & (len(df[(df['event_id'] == event) & (df['time_to_tca'] >= 2.0)]) >= 1):\n",
    "            keep_events.append(event)\n",
    "    df_interest = df[df['event_id'].isin(keep_events)]\n",
    "    \n",
    "    # Extract the target for each event\n",
    "    y_train = df_interest.loc[df_interest.groupby('event_id')['time_to_tca'].idxmin()][['event_id', 'risk']]\n",
    "    y_train.rename(columns={'risk':'true_risk'}, inplace=True)\n",
    "    y_train.set_index('event_id', drop=True, inplace=True)\n",
    "    \n",
    "    # Extract the data for each event\n",
    "    X_train = df_interest[df_interest['time_to_tca'] >= 2.0]\n",
    "    X_train = X_train.loc[X_train.groupby('event_id')['time_to_tca'].idxmin()]\n",
    "    X_train.set_index('event_id', drop=True, inplace=True)\n",
    "\n",
    "    # Create additional targets\n",
    "    y_train['diff_risk'] = y_train['true_risk'] - X_train['risk']\n",
    "    y_train['class_risk'] = (y_train['true_risk'] >= -6.00).astype(int)\n",
    "\n",
    "    # Keep interesting features only\n",
    "    X_train = X_train[['risk']]\n",
    "\n",
    "    # Oversampling\n",
    "    X_oversample = X_train.merge(y_train['true_risk'], on='event_id')\n",
    "\n",
    "    smote = SMOTE(random_state=42, sampling_strategy=1.0)\n",
    "    X_train, y_train_class_risk = smote.fit_resample(X_oversample, y_train['class_risk'])\n",
    "    y_train = pd.merge(y_train_class_risk, X_train['true_risk'], left_index=True, right_index=True)\n",
    "    y_train['diff_risk'] = y_train['true_risk'] - X_train['risk']\n",
    "    X_train = X_train.drop(columns=['true_risk'])\n",
    "    \n",
    "    return X_train, y_train\n",
    "\n",
    "\n",
    "def extract_test_dataset(X_test, y_test):\n",
    "    \"\"\"\n",
    "    Prepare the test dataset for the testing of the LGMB model\n",
    "\n",
    "    Parameters:\n",
    "    - X_test (pandas DataFrame): Official test dataset unchanged downloaded from the competition site\n",
    "    - y_test (pandas DataFrame): Official labels of test dataset unchanged downloaded from the competition site\n",
    "\n",
    "    Returns:\n",
    "    - X_test (pandas DataFrame): Testing data\n",
    "    - y_test (pandas DataFrame): Labels associated to the testing data. Contains :\n",
    "        - the target value (true_risk) which is the risk for the last tca available\n",
    "        - the difference between the risk and the target value (diff_risk)\n",
    "        - the class of the target value (class_risk)\n",
    "    \"\"\"\n",
    "\n",
    "    # Extract data for each event\n",
    "    X_test = X_test.loc[X_test.groupby('event_id')['time_to_tca'].idxmin()]\n",
    "    X_test.set_index('event_id', drop=True, inplace=True)\n",
    "\n",
    "    # Create additional targets\n",
    "    y_test['diff_risk'] = y_test['true_risk'] - X_test['risk']\n",
    "    y_test['class_risk'] = (y_test['true_risk'] >= -6.00).astype(int)\n",
    "\n",
    "    y_test = y_test[['true_risk', 'diff_risk', 'class_risk']]\n",
    "\n",
    "    # Keep interesting features only\n",
    "    X_test = X_test[['risk']]\n",
    "\n",
    "    return X_test, y_test\n",
    "\n",
    "X_train, y_train = extract_train_dataset(df_train_init)\n",
    "X_test, y_test = extract_test_dataset(X_test_init, y_test_init)"
   ]
  },
  {
   "cell_type": "markdown",
   "metadata": {},
   "source": [
    "Finally, we implement the training and testing pipeline for the LGBM model for a regression task."
   ]
  },
  {
   "cell_type": "code",
   "execution_count": 39,
   "metadata": {},
   "outputs": [],
   "source": [
    "def pipeline_lgbmr(X_train, y_train, X_test, y_test, list_estimators=[75]):\n",
    "    \"\"\"\n",
    "    Realize the training and the testing of the LGBM model\n",
    "\n",
    "    Parameters:\n",
    "    - X_train (pandas DataFrame) : Train dataset\n",
    "    - y_train (pandas DataFrame) : Labels of train dataset\n",
    "    - X_test (pandas DataFrame) : Test dataset\n",
    "    - y_test (pandas DataFrame) : Labels of test dataset\n",
    "    - list_estimators (list of int) : Sequence of the number of estimators used by the model that we want to experiment. \n",
    "                                      This parameter is mainly used to extract a learning curve.\n",
    "\n",
    "    Returns:\n",
    "    - results (pandas DataFrame) : Contains performance metrics for train and test datasets for each n_estimators experimented\n",
    "    \"\"\"\n",
    "\n",
    "    # Initialise the dataframe to return\n",
    "    results = pd.DataFrame(columns=['n_estimators', 'Train_F2', 'Train_MSE', 'Train_Loss', 'Test_F2', 'Test_MSE', 'Test_Loss'])\n",
    "\n",
    "    # Creation of the scaler used for targets\n",
    "    quantile_transformer = QuantileTransformer().fit(y_train['diff_risk'].to_numpy().reshape(-1, 1))\n",
    "    \n",
    "    for n_estimators in list_estimators:\n",
    "    \n",
    "        # Initialise model\n",
    "        model = LGBMRegressor(n_estimators=n_estimators, feature_fraction=1.0, learning_rate=0.05)\n",
    "\n",
    "        # Scale targets\n",
    "        y_train_enc = quantile_transformer.transform(y_train['diff_risk'].to_numpy().reshape(-1, 1)).ravel()\n",
    "\n",
    "        # Fit the model\n",
    "        model.fit(X_train, y_train_enc)\n",
    "        \n",
    "        # Generate predictions for train and test sets\n",
    "        y_train_pred = quantile_transformer.inverse_transform(model.predict(X_train).reshape(-1, 1)).ravel() + X_train['risk']\n",
    "        y_test_pred = quantile_transformer.inverse_transform(model.predict(X_test).reshape(-1, 1)).ravel() + X_test['risk']\n",
    "\n",
    "        # Compute metrics for train set\n",
    "        train_f2 = f2(y_train['true_risk'], y_train_pred)\n",
    "        train_mse = mse_hr(y_train['true_risk'], y_train_pred)\n",
    "        train_loss = loss(y_train['true_risk'], y_train_pred)\n",
    "\n",
    "        # Compute metrics for test set\n",
    "        test_f2 = f2(y_test['true_risk'], y_test_pred)\n",
    "        test_mse = mse_hr(y_test['true_risk'], y_test_pred)\n",
    "        test_loss = loss(y_test['true_risk'], y_test_pred)\n",
    "\n",
    "        results.loc[len(results)] = [n_estimators, train_f2, train_mse, train_loss, test_f2, test_mse, test_loss]\n",
    "\n",
    "    return results\n",
    "\n",
    "list_estimators = np.arange(10, 155, 5)\n",
    "lgbmr_results = pipeline_lgbmr(X_train, y_train, X_test, y_test, list_estimators)"
   ]
  },
  {
   "cell_type": "code",
   "execution_count": 40,
   "metadata": {},
   "outputs": [
    {
     "data": {
      "text/html": [
       "<div>\n",
       "<style scoped>\n",
       "    .dataframe tbody tr th:only-of-type {\n",
       "        vertical-align: middle;\n",
       "    }\n",
       "\n",
       "    .dataframe tbody tr th {\n",
       "        vertical-align: top;\n",
       "    }\n",
       "\n",
       "    .dataframe thead th {\n",
       "        text-align: right;\n",
       "    }\n",
       "</style>\n",
       "<table border=\"1\" class=\"dataframe\">\n",
       "  <thead>\n",
       "    <tr style=\"text-align: right;\">\n",
       "      <th></th>\n",
       "      <th>n_estimators</th>\n",
       "      <th>Train_F2</th>\n",
       "      <th>Train_MSE</th>\n",
       "      <th>Train_Loss</th>\n",
       "      <th>Test_F2</th>\n",
       "      <th>Test_MSE</th>\n",
       "      <th>Test_Loss</th>\n",
       "    </tr>\n",
       "  </thead>\n",
       "  <tbody>\n",
       "    <tr>\n",
       "      <th>13</th>\n",
       "      <td>75.0</td>\n",
       "      <td>0.822718</td>\n",
       "      <td>0.244270</td>\n",
       "      <td>0.296906</td>\n",
       "      <td>0.757962</td>\n",
       "      <td>0.491035</td>\n",
       "      <td>0.647836</td>\n",
       "    </tr>\n",
       "    <tr>\n",
       "      <th>14</th>\n",
       "      <td>80.0</td>\n",
       "      <td>0.822718</td>\n",
       "      <td>0.244018</td>\n",
       "      <td>0.296600</td>\n",
       "      <td>0.757962</td>\n",
       "      <td>0.491540</td>\n",
       "      <td>0.648502</td>\n",
       "    </tr>\n",
       "    <tr>\n",
       "      <th>15</th>\n",
       "      <td>85.0</td>\n",
       "      <td>0.822718</td>\n",
       "      <td>0.243713</td>\n",
       "      <td>0.296230</td>\n",
       "      <td>0.757962</td>\n",
       "      <td>0.491913</td>\n",
       "      <td>0.648995</td>\n",
       "    </tr>\n",
       "    <tr>\n",
       "      <th>16</th>\n",
       "      <td>90.0</td>\n",
       "      <td>0.822718</td>\n",
       "      <td>0.243612</td>\n",
       "      <td>0.296106</td>\n",
       "      <td>0.757962</td>\n",
       "      <td>0.492267</td>\n",
       "      <td>0.649462</td>\n",
       "    </tr>\n",
       "    <tr>\n",
       "      <th>17</th>\n",
       "      <td>95.0</td>\n",
       "      <td>0.822718</td>\n",
       "      <td>0.243495</td>\n",
       "      <td>0.295964</td>\n",
       "      <td>0.757962</td>\n",
       "      <td>0.492348</td>\n",
       "      <td>0.649568</td>\n",
       "    </tr>\n",
       "  </tbody>\n",
       "</table>\n",
       "</div>"
      ],
      "text/plain": [
       "    n_estimators  Train_F2  Train_MSE  Train_Loss   Test_F2  Test_MSE  \\\n",
       "13          75.0  0.822718   0.244270    0.296906  0.757962  0.491035   \n",
       "14          80.0  0.822718   0.244018    0.296600  0.757962  0.491540   \n",
       "15          85.0  0.822718   0.243713    0.296230  0.757962  0.491913   \n",
       "16          90.0  0.822718   0.243612    0.296106  0.757962  0.492267   \n",
       "17          95.0  0.822718   0.243495    0.295964  0.757962  0.492348   \n",
       "\n",
       "    Test_Loss  \n",
       "13   0.647836  \n",
       "14   0.648502  \n",
       "15   0.648995  \n",
       "16   0.649462  \n",
       "17   0.649568  "
      ]
     },
     "execution_count": 40,
     "metadata": {},
     "output_type": "execute_result"
    }
   ],
   "source": [
    "lgbmr_results.sort_values(by=['Test_Loss'])[:5]"
   ]
  },
  {
   "cell_type": "markdown",
   "metadata": {},
   "source": [
    "The results obtained on the train and test sets are presented above. Here, we have conducted training sessions for various values of `n_estimators`, which represents the number of naive models—specifically, decision trees—used sequentially in the model. Therefore, It can be seen as analogous to the number of epochs in a neural network, because as more trees are added, the model becomes increasingly capable of capturing patterns of the training data. In fact, this allows us to observe how the model's performance varies with its \"depth\". Specifically, the chart below illustrates the evolution of training and testing errors as the number of estimators used increases."
   ]
  },
  {
   "cell_type": "code",
   "execution_count": 32,
   "metadata": {},
   "outputs": [
    {
     "data": {
      "text/plain": [
       "Text(0.5, 1.0, 'Learning curve of LGBM model')"
      ]
     },
     "execution_count": 32,
     "metadata": {},
     "output_type": "execute_result"
    },
    {
     "data": {
      "image/png": "[encoded data removed]",
      "text/plain": [
       "<Figure size 800x550 with 1 Axes>"
      ]
     },
     "metadata": {},
     "output_type": "display_data"
    }
   ],
   "source": [
    "lgbmr_results.plot(x='n_estimators', y=['Train_Loss', 'Test_Loss'])\n",
    "plt.ylabel(\"Loss\")\n",
    "plt.title(\"Learning curve of LGBM model\")"
   ]
  },
  {
   "cell_type": "markdown",
   "metadata": {},
   "source": [
    "This chart indicates that the training is quite effective. Initially, the training set provides a good learning base for the test set, especially during the early epochs (i.e., a low number of estimators), where the error reduction rate is relatively close. We observe a fairly steady progression between epochs $40$ and $70$, followed by a slight increase in error. However, at epoch $75$, we can observe a final decrease in error, marking the lowest error rate achieved in testing, after which a slight rise in testing error suggests overfitting, as the training error continues to decrease slowly.\n",
    "\n",
    "These analyses suggest that the training dataset is quite effective for learning, but the chosen methodology hits a performance limit with an error around $0.648$. While this limit is worse than the results achieved by the competition's top team, this method would have placed us in the top $10$, specifically in the 9th position. Moreover, this solution remains relatively simple, using only the previous risk value for prediction. Considering other features for training could be beneficial, but care must be taken not to compromise the representativeness of the training set relative to the test set. On the other hand, we note that the oversampling method, SMOTE, is particularly efficient here since the best loss that we obtained without data augmentation was around $1.00$. \n",
    "\n",
    "Finally, it's important to note that during the competition, it wasn't possible to perform such extensive testing as there was a limit of two solution submissions per day. Therefore, it's uncertain if this exact performance could have been achieved; the likely performance would have been around $0.650$."
   ]
  }
 ],
 "metadata": {
  "kernelspec": {
   "display_name": "spacedebris",
   "language": "python",
   "name": "python3"
  },
  "language_info": {
   "codemirror_mode": {
    "name": "ipython",
    "version": 3
   },
   "file_extension": ".py",
   "mimetype": "text/x-python",
   "name": "python",
   "nbconvert_exporter": "python",
   "pygments_lexer": "ipython3",
   "version": "3.12.2"
  }
 },
 "nbformat": 4,
 "nbformat_minor": 2
}
